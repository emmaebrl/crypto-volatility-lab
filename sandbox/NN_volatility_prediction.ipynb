{
 "cells": [
  {
   "cell_type": "code",
   "execution_count": 1,
   "metadata": {},
   "outputs": [],
   "source": [
    "from crypto_volatility_lab.data_construction import CryptoScraper, TimeSeriesCreator\n",
    "import matplotlib.pyplot as plt\n",
    "import numpy as np"
   ]
  },
  {
   "cell_type": "markdown",
   "metadata": {},
   "source": [
    "# Récupération des données"
   ]
  },
  {
   "cell_type": "markdown",
   "metadata": {},
   "source": [
    "### Récupération d'une seule currency"
   ]
  },
  {
   "cell_type": "code",
   "execution_count": 2,
   "metadata": {},
   "outputs": [],
   "source": [
    "crypto_scraper = CryptoScraper()\n",
    "bitcoin_data = crypto_scraper.get_data_for_currency('BTC-USD')"
   ]
  },
  {
   "cell_type": "code",
   "execution_count": null,
   "metadata": {},
   "outputs": [],
   "source": [
    "print(bitcoin_data.shape)\n",
    "bitcoin_data.head()"
   ]
  },
  {
   "cell_type": "markdown",
   "metadata": {},
   "source": [
    "#### Création des time series"
   ]
  },
  {
   "cell_type": "code",
   "execution_count": null,
   "metadata": {},
   "outputs": [],
   "source": [
    "ts_creator = TimeSeriesCreator(data=bitcoin_data, date_column_name='Date', value_column_name='Close')\n",
    "log_returns = ts_creator.create_log_return_time_series()\n",
    "volatility = ts_creator.create_volatility_time_series()\n",
    "\n",
    "bitcoin_data[\"Log Returns\"] = log_returns\n",
    "bitcoin_data[\"Volatility\"] = volatility\n",
    "bitcoin_data.head(5)"
   ]
  },
  {
   "cell_type": "code",
   "execution_count": null,
   "metadata": {},
   "outputs": [],
   "source": [
    "# sort the data by descending date\n",
    "bitcoin_data = bitcoin_data.sort_values(by=\"Date\", ascending=True)\n",
    "\n",
    "# plotting time series by date\n",
    "fig, ax = plt.subplots(3, 1, figsize=(12, 8))\n",
    "\n",
    "ax[0].plot(bitcoin_data[\"Date\"], bitcoin_data[\"Close\"])\n",
    "ax[0].set_title(\"Bitcoin Price\")\n",
    "ax[0].set_xlabel(\"Date\")\n",
    "ax[0].set_ylabel(\"Price\")\n",
    "\n",
    "ax[1].plot(bitcoin_data[\"Date\"], bitcoin_data[\"Log Returns\"])\n",
    "ax[1].set_title(\"Log Returns\")\n",
    "ax[1].set_xlabel(\"Date\")\n",
    "ax[1].set_ylabel(\"Log Returns\")\n",
    "\n",
    "ax[2].plot(bitcoin_data[\"Date\"], bitcoin_data[\"Volatility\"])\n",
    "ax[2].set_title(\"Volatility\")\n",
    "ax[2].set_xlabel(\"Date\")\n",
    "ax[2].set_ylabel(\"Volatility\")\n",
    "\n",
    "\n",
    "\n",
    "plt.tight_layout()\n",
    "plt.show()"
   ]
  },
  {
   "cell_type": "code",
   "execution_count": null,
   "metadata": {},
   "outputs": [],
   "source": [
    "bitcoin_data = bitcoin_data.dropna()\n",
    "\n",
    "# time split\n",
    "train_size = int(0.8 * bitcoin_data.shape[0])\n",
    "train_data = bitcoin_data.iloc[:train_size]\n",
    "test_data = bitcoin_data.iloc[train_size:]\n",
    "\n",
    "fig, ax = plt.subplots(figsize=(12, 6))\n",
    "ax.plot(train_data[\"Date\"], train_data[\"Close\"], label=\"Train\")\n",
    "ax.plot(test_data[\"Date\"], test_data[\"Close\"], label=\"Test\")\n",
    "start_date = train_data[\"Date\"].min().strftime('%Y-%m-%d')\n",
    "split_date = test_data[\"Date\"].min().strftime('%Y-%m-%d')\n",
    "end_date = test_data[\"Date\"].max().strftime('%Y-%m-%d')\n",
    "\n",
    "ax.set_title(f\"Bitcoin Price\\n(Start: {start_date}, Split: {split_date}, End: {end_date})\")\n",
    "ax.set_xlabel(\"Date\")\n",
    "ax.set_ylabel(\"Price\")\n",
    "ax.legend()\n",
    "plt.show()\n"
   ]
  },
  {
   "cell_type": "markdown",
   "metadata": {},
   "source": [
    "### LSTM"
   ]
  },
  {
   "cell_type": "code",
   "execution_count": null,
   "metadata": {},
   "outputs": [],
   "source": [
    "from crypto_volatility_lab.modeling import LSTMPipeline\n",
    "\n",
    "pipeline = LSTMPipeline(forecast_horizon=1, epochs=80, batch_size=32, validation_split=0.1)\n",
    "\n",
    "model = pipeline.fit(train_data[[\"Volatility\"]].values, train_data[\"Volatility\"].values.astype(np.float64))"
   ]
  },
  {
   "cell_type": "code",
   "execution_count": null,
   "metadata": {},
   "outputs": [],
   "source": [
    "pipeline.evaluate_metrics(train_data[[\"Volatility\"]].values, train_data[\"Volatility\"].values.astype(np.float64))\n",
    "pipeline.evaluate_metrics(test_data[[\"Volatility\"]].values, test_data[\"Volatility\"].values.astype(np.float64))"
   ]
  },
  {
   "cell_type": "code",
   "execution_count": null,
   "metadata": {},
   "outputs": [],
   "source": [
    "history = pipeline.get_history()\n",
    "\n",
    "# plot the training and validation loss\n",
    "plt.figure(figsize=(12, 8))\n",
    "plt.plot(history[\"loss\"], label=\"Training Loss\")\n",
    "plt.plot(history[\"val_loss\"], label=\"Validation Loss\")\n",
    "plt.title(\"Training and Validation Loss\")\n",
    "plt.xlabel(\"Epoch\")\n",
    "plt.ylabel(\"Loss\")\n",
    "plt.legend()"
   ]
  },
  {
   "cell_type": "code",
   "execution_count": null,
   "metadata": {},
   "outputs": [],
   "source": [
    "# plot y_pred\n",
    "y_pred = pipeline.predict(train_data[[\"Volatility\"]].values)\n",
    "\n",
    "# plot the predicted volatility\n",
    "fig, ax = plt.subplots(figsize=(12, 8))\n",
    "ax.plot(train_data[\"Date\"], train_data[\"Volatility\"], label=\"True Volatility\")\n",
    "ax.plot(train_data[\"Date\"][-len(y_pred):], y_pred, label=\"Predicted Volatility\")\n",
    "ax.set_title(\"Predicted Volatility\")\n",
    "\n",
    "# predict on test data\n",
    "y_test_pred = pipeline.predict(test_data[[\"Volatility\"]].values)\n",
    "\n",
    "fig, ax = plt.subplots(figsize=(12, 8))\n",
    "ax.plot(test_data[\"Date\"], test_data[\"Volatility\"], label=\"True Volatility\")\n",
    "ax.plot(test_data[\"Date\"][-len(y_test_pred):], y_test_pred, label=\"Predicted Volatility\")\n",
    "ax.set_title(\"Predicted Volatility\")"
   ]
  },
  {
   "cell_type": "markdown",
   "metadata": {},
   "source": [
    "### Modèle GRU"
   ]
  },
  {
   "cell_type": "code",
   "execution_count": null,
   "metadata": {},
   "outputs": [],
   "source": [
    "from crypto_volatility_lab.modeling import GRUPipeline\n",
    "\n",
    "pipeline = GRUPipeline(forecast_horizon=1, epochs=80, batch_size=32, validation_split=0.1)\n",
    "\n",
    "model = pipeline.fit(train_data[[\"Volatility\"]].values, train_data[\"Volatility\"].values.astype(np.float64))"
   ]
  },
  {
   "cell_type": "code",
   "execution_count": null,
   "metadata": {},
   "outputs": [],
   "source": [
    "pipeline.evaluate_metrics(train_data[[\"Volatility\"]].values, train_data[\"Volatility\"].values.astype(np.float64))\n",
    "pipeline.evaluate_metrics(test_data[[\"Volatility\"]].values, test_data[\"Volatility\"].values.astype(np.float64))"
   ]
  },
  {
   "cell_type": "code",
   "execution_count": null,
   "metadata": {},
   "outputs": [],
   "source": [
    "history = pipeline.get_history()\n",
    "\n",
    "# plot the training and validation loss\n",
    "plt.figure(figsize=(12, 8))\n",
    "plt.plot(history[\"loss\"], label=\"Training Loss\")\n",
    "plt.plot(history[\"val_loss\"], label=\"Validation Loss\")\n",
    "plt.title(\"Training and Validation Loss\")\n",
    "plt.xlabel(\"Epoch\")\n",
    "plt.ylabel(\"Loss\")\n",
    "plt.legend()"
   ]
  },
  {
   "cell_type": "code",
   "execution_count": null,
   "metadata": {},
   "outputs": [],
   "source": [
    "# plot y_pred\n",
    "y_pred = pipeline.predict(train_data[[\"Volatility\"]].values)\n",
    "\n",
    "# plot the predicted volatility\n",
    "fig, ax = plt.subplots(figsize=(12, 8))\n",
    "ax.plot(train_data[\"Date\"], train_data[\"Volatility\"], label=\"True Volatility\")\n",
    "ax.plot(train_data[\"Date\"][-len(y_pred):], y_pred, label=\"Predicted Volatility\")\n",
    "ax.set_title(\"Predicted Volatility\")\n",
    "\n",
    "# predict on test data\n",
    "y_test_pred = pipeline.predict(test_data[[\"Volatility\"]].values)\n",
    "\n",
    "fig, ax = plt.subplots(figsize=(12, 8))\n",
    "ax.plot(test_data[\"Date\"], test_data[\"Volatility\"], label=\"True Volatility\")\n",
    "ax.plot(test_data[\"Date\"][-len(y_test_pred):], y_test_pred, label=\"Predicted Volatility\")\n",
    "ax.set_title(\"Predicted Volatility\")"
   ]
  },
  {
   "cell_type": "markdown",
   "metadata": {},
   "source": [
    "### Modèle GRU-LSTM"
   ]
  },
  {
   "cell_type": "code",
   "execution_count": null,
   "metadata": {},
   "outputs": [],
   "source": [
    "from crypto_volatility_lab.modeling import LSTMGRUPipeline\n",
    "\n",
    "pipeline = LSTMGRUPipeline(forecast_horizon=1, epochs=80, batch_size=32, validation_split=0.1)\n",
    "\n",
    "model = pipeline.fit(train_data[[\"Volatility\"]].values, train_data[\"Volatility\"].values.astype(np.float64))"
   ]
  },
  {
   "cell_type": "code",
   "execution_count": null,
   "metadata": {},
   "outputs": [],
   "source": [
    "pipeline.evaluate_metrics(train_data[[\"Volatility\"]].values, train_data[\"Volatility\"].values.astype(np.float64))\n",
    "pipeline.evaluate_metrics(test_data[[\"Volatility\"]].values, test_data[\"Volatility\"].values.astype(np.float64))"
   ]
  },
  {
   "cell_type": "code",
   "execution_count": null,
   "metadata": {},
   "outputs": [],
   "source": [
    "history = pipeline.get_history()\n",
    "\n",
    "# plot the training and validation loss\n",
    "plt.figure(figsize=(12, 8))\n",
    "plt.plot(history[\"loss\"], label=\"Training Loss\")\n",
    "plt.plot(history[\"val_loss\"], label=\"Validation Loss\")\n",
    "plt.title(\"Training and Validation Loss\")\n",
    "plt.xlabel(\"Epoch\")\n",
    "plt.ylabel(\"Loss\")\n",
    "plt.legend()"
   ]
  },
  {
   "cell_type": "code",
   "execution_count": null,
   "metadata": {},
   "outputs": [],
   "source": [
    "# plot y_pred\n",
    "y_pred = pipeline.predict(train_data[[\"Volatility\"]].values)\n",
    "\n",
    "# plot the predicted volatility\n",
    "fig, ax = plt.subplots(figsize=(12, 8))\n",
    "ax.plot(train_data[\"Date\"], train_data[\"Volatility\"], label=\"True Volatility\")\n",
    "ax.plot(train_data[\"Date\"][-len(y_pred):], y_pred, label=\"Predicted Volatility\")\n",
    "ax.set_title(\"Predicted Volatility\")\n",
    "\n",
    "# predict on test data\n",
    "y_test_pred = pipeline.predict(test_data[[\"Volatility\"]].values)\n",
    "\n",
    "fig, ax = plt.subplots(figsize=(12, 8))\n",
    "ax.plot(test_data[\"Date\"], test_data[\"Volatility\"], label=\"True Volatility\")\n",
    "ax.plot(test_data[\"Date\"][-len(y_test_pred):], y_test_pred, label=\"Predicted Volatility\")\n",
    "ax.set_title(\"Predicted Volatility\")"
   ]
  }
 ],
 "metadata": {
  "kernelspec": {
   "display_name": ".venv",
   "language": "python",
   "name": "python3"
  },
  "language_info": {
   "codemirror_mode": {
    "name": "ipython",
    "version": 3
   },
   "file_extension": ".py",
   "mimetype": "text/x-python",
   "name": "python",
   "nbconvert_exporter": "python",
   "pygments_lexer": "ipython3",
   "version": "3.11.0"
  }
 },
 "nbformat": 4,
 "nbformat_minor": 2
}
