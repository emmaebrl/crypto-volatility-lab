{
 "cells": [
  {
   "cell_type": "code",
   "execution_count": null,
   "metadata": {},
   "outputs": [],
   "source": [
    "def compute_weights(self, asset_std_devs):\n",
    "        \"\"\"\n",
    "        Calcule les poids pour un portefeuille à parité de risque.\n",
    "\n",
    "        Paramètres :\n",
    "        - asset_std_devs (array-like) : Une liste ou un tableau contenant les écarts-types des actifs.\n",
    "\n",
    "        Retourne :\n",
    "        - weights (numpy.ndarray) : Les poids calculés pour chaque actif.\n",
    "        \"\"\"\n",
    "        asset_std_devs = np.array(asset_std_devs)\n",
    "\n",
    "        if np.any(asset_std_devs <= 0):\n",
    "            raise ValueError(\"Les écarts-types doivent être strictement positifs.\")\n",
    "\n",
    "        inverse_std_devs = 1 / asset_std_devs\n",
    "        total_inverse_std_devs = np.sum(inverse_std_devs)\n",
    "\n",
    "        self.weights = inverse_std_devs / total_inverse_std_devs\n",
    "        return self.weights"
   ]
  }
 ],
 "metadata": {
  "kernelspec": {
   "display_name": ".venv",
   "language": "python",
   "name": "python3"
  },
  "language_info": {
   "name": "python",
   "version": "3.11.0"
  }
 },
 "nbformat": 4,
 "nbformat_minor": 2
}
